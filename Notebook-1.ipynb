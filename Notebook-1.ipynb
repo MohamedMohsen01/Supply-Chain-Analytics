{
    "metadata": {
        "kernelspec": {
            "name": "SQL",
            "display_name": "SQL",
            "language": "sql"
        },
        "language_info": {
            "name": "sql",
            "version": ""
        }
    },
    "nbformat_minor": 2,
    "nbformat": 4,
    "cells": [
        {
            "cell_type": "markdown",
            "source": [
                ""
            ],
            "metadata": {
                "azdata_cell_guid": "128cc3e1-e09f-4530-9680-85e2dcc29191"
            }
        },
        {
            "cell_type": "markdown",
            "source": [
                "## **Let's get an overview of the data**"
            ],
            "metadata": {
                "azdata_cell_guid": "63f278c8-1789-4614-9e7e-c468a51cf0dd"
            },
            "attachments": {}
        },
        {
            "cell_type": "code",
            "source": [
                "USE SupplyChain"
            ],
            "metadata": {
                "azdata_cell_guid": "08aa6b0a-6c5f-4952-81ff-837965e6cec3",
                "language": "sql",
                "tags": []
            },
            "outputs": [],
            "execution_count": null
        },
        {
            "cell_type": "markdown",
            "source": [
                "## **Customer Table**"
            ],
            "metadata": {
                "azdata_cell_guid": "54bfb323-8e3b-4631-b699-1a41e145a552"
            },
            "attachments": {}
        },
        {
            "cell_type": "code",
            "source": [
                "SELECT * FROM dim_customers; "
            ],
            "metadata": {
                "azdata_cell_guid": "7759b208-0a27-4cb9-b080-211b2f349060",
                "language": "sql",
                "tags": []
            },
            "outputs": [],
            "execution_count": null
        },
        {
            "cell_type": "markdown",
            "source": [
                "## **Date Table**"
            ],
            "metadata": {
                "azdata_cell_guid": "841151f7-108d-4f72-a32a-5bd5a1d8f247"
            },
            "attachments": {}
        },
        {
            "cell_type": "code",
            "source": [
                "SELECT * FROM dim_date;"
            ],
            "metadata": {
                "azdata_cell_guid": "bf5d181f-c43e-47a1-9ed0-00c472f48213",
                "language": "sql",
                "tags": []
            },
            "outputs": [],
            "execution_count": null
        },
        {
            "cell_type": "markdown",
            "source": [
                "## **Product Table**"
            ],
            "metadata": {
                "language": "sql",
                "azdata_cell_guid": "19b5acc4-375c-4eb3-bb0e-f45e8fcfd79b"
            },
            "attachments": {}
        },
        {
            "cell_type": "code",
            "source": [
                "SELECT * FROM dim_products;"
            ],
            "metadata": {
                "language": "sql",
                "azdata_cell_guid": "57cfc71c-2e6c-4646-8ae4-cc674fe0c71a",
                "tags": []
            },
            "outputs": [],
            "execution_count": null
        },
        {
            "cell_type": "markdown",
            "source": [
                "## **Target orders Table**"
            ],
            "metadata": {
                "language": "sql",
                "azdata_cell_guid": "3f337c85-484f-47c0-a8ac-e2e6bc37d68c"
            },
            "attachments": {}
        },
        {
            "cell_type": "code",
            "source": [
                "SELECT * FROM dim_targets_orders;"
            ],
            "metadata": {
                "language": "sql",
                "azdata_cell_guid": "4f6a26b3-053d-4f51-a40a-4f2abd9c50e8",
                "tags": []
            },
            "outputs": [],
            "execution_count": null
        },
        {
            "cell_type": "markdown",
            "source": [
                "## **Order lines Table**"
            ],
            "metadata": {
                "language": "sql",
                "azdata_cell_guid": "eea309b3-305d-492b-b2ab-6d90984fdd43"
            },
            "attachments": {}
        },
        {
            "cell_type": "code",
            "source": [
                "SELECT * FROM fact_order_lines;"
            ],
            "metadata": {
                "language": "sql",
                "azdata_cell_guid": "15ecda7f-1fd9-4616-a6b6-41ded7852621",
                "tags": []
            },
            "outputs": [],
            "execution_count": null
        },
        {
            "cell_type": "markdown",
            "source": [
                "## **Orders aggregated table**"
            ],
            "metadata": {
                "language": "sql",
                "azdata_cell_guid": "8487d591-7df2-4a17-ad0e-f0ef8818b6c1"
            },
            "attachments": {}
        },
        {
            "cell_type": "code",
            "source": [
                "SELECT * FROM fact_orders_aggregate;"
            ],
            "metadata": {
                "language": "sql",
                "azdata_cell_guid": "800b5ce5-6a3e-404a-91e1-f94e4b2be334",
                "tags": []
            },
            "outputs": [],
            "execution_count": null
        },
        {
            "cell_type": "markdown",
            "source": [
                "## **To get total customers present**"
            ],
            "metadata": {
                "azdata_cell_guid": "751f9eaf-6afb-4744-80d9-73287400fcbe"
            },
            "attachments": {}
        },
        {
            "cell_type": "code",
            "source": [
                "SELECT COUNT(distinct customer_id) AS Total_Cusotmers \r\n",
                "FROM dim_customers;"
            ],
            "metadata": {
                "azdata_cell_guid": "40d050d5-6b88-443e-a7b6-88a88c6f81f0",
                "language": "sql",
                "tags": []
            },
            "outputs": [],
            "execution_count": null
        },
        {
            "cell_type": "markdown",
            "source": [
                "## **To get total products with their categories available**"
            ],
            "metadata": {
                "azdata_cell_guid": "e688db92-4b17-4c7c-a328-5060bb92988a"
            },
            "attachments": {}
        },
        {
            "cell_type": "code",
            "source": [
                "SELECT COUNT(DISTINCT product_id) AS Total_products \r\n",
                "FROM dim_products;"
            ],
            "metadata": {
                "azdata_cell_guid": "4b3d1d91-e676-421f-83c7-886fdad66d03",
                "language": "sql",
                "tags": []
            },
            "outputs": [],
            "execution_count": null
        },
        {
            "cell_type": "markdown",
            "source": [
                "## **To get total cities they are currently operating in**"
            ],
            "metadata": {
                "language": "sql",
                "azdata_cell_guid": "7a10a688-86fb-47f1-a8db-87a9ca114ae7"
            },
            "attachments": {}
        },
        {
            "cell_type": "code",
            "source": [
                "SELECT COUNT(DISTINCT city) AS Total_cities \r\n",
                "FROM dim_customers;"
            ],
            "metadata": {
                "language": "sql",
                "azdata_cell_guid": "3e0dcd3e-96a9-4c6a-95ee-985837843998",
                "tags": []
            },
            "outputs": [],
            "execution_count": null
        },
        {
            "cell_type": "markdown",
            "source": [
                "## **What are total number of products and total number of customers?**"
            ],
            "metadata": {
                "language": "sql",
                "azdata_cell_guid": "c77b3cb0-6bf4-4360-b31c-36839646ef74"
            },
            "attachments": {}
        },
        {
            "cell_type": "code",
            "source": [
                "SELECT \r\n",
                "\tCOUNT(DISTINCT customer_id) AS Total_Customers, \r\n",
                "\tCOUNT(DISTINCT product_id) AS Total_Products \r\n",
                "FROM fact_order_lines;"
            ],
            "metadata": {
                "language": "sql",
                "azdata_cell_guid": "241f1544-9792-4142-b808-91a6ce2cb13a",
                "tags": []
            },
            "outputs": [],
            "execution_count": null
        },
        {
            "cell_type": "markdown",
            "source": [
                "## **What is the average order quantity by customers?**"
            ],
            "metadata": {
                "language": "sql",
                "azdata_cell_guid": "a230f69a-c424-4d63-b8e7-4d9db055abaa"
            },
            "attachments": {}
        },
        {
            "cell_type": "code",
            "source": [
                "SELECT \r\n",
                "\tcustomer_id, \r\n",
                "\tAVG(order_qty) AS Avg_order_qty \r\n",
                "FROM fact_order_lines \r\n",
                "GROUP BY customer_id;"
            ],
            "metadata": {
                "language": "sql",
                "azdata_cell_guid": "84448084-ba39-4b64-bf2a-5594436ccb3d",
                "tags": []
            },
            "outputs": [],
            "execution_count": null
        },
        {
            "cell_type": "markdown",
            "source": [
                "## **What is the average delivery time for orders by city?**"
            ],
            "metadata": {
                "language": "sql",
                "azdata_cell_guid": "41cee08e-5984-42d4-a1c0-58faf499df8c"
            },
            "attachments": {}
        },
        {
            "cell_type": "code",
            "source": [
                "SELECT \r\n",
                "    dc.city, \r\n",
                "    AVG(DATEDIFF(DAY, fo.actual_delivery_date, fo.agreed_delivery_date)) AS Avg_delivery_date\r\n",
                "FROM fact_order_lines AS fo\r\n",
                "\tINNER JOIN dim_customers AS dc\r\n",
                "\t\tON fo.customer_id = dc.customer_id\r\n",
                "GROUP BY dc.city;"
            ],
            "metadata": {
                "language": "sql",
                "azdata_cell_guid": "bede1be0-92ae-48a5-b7d3-8514ac9acb26",
                "tags": []
            },
            "outputs": [],
            "execution_count": null
        },
        {
            "cell_type": "markdown",
            "source": [
                "## **What is the average delivery time for on-time(OT) orders by city?**"
            ],
            "metadata": {
                "language": "sql",
                "azdata_cell_guid": "d76269d8-999a-4508-8a78-a9aacb1dd18e"
            },
            "attachments": {}
        },
        {
            "cell_type": "code",
            "source": [
                "SELECT \r\n",
                "\tcity, \r\n",
                "\tAVG(DATEDIFF(DAY, actual_delivery_date, agreed_delivery_date)) AS Avg_delivery_date\r\n",
                "FROM fact_order_lines \r\n",
                "\tINNER JOIN dim_customers \r\n",
                "\t\tON fact_order_lines.customer_id = dim_customers.customer_id\r\n",
                "\tINNER JOIN fact_orders_aggregate \r\n",
                "\t\tON fact_order_lines.order_id = fact_orders_aggregate.order_id\r\n",
                "WHERE fact_orders_aggregate.on_time = 1\r\n",
                "GROUP BY city;"
            ],
            "metadata": {
                "language": "sql",
                "azdata_cell_guid": "c58d1f34-3bc3-454b-9eb4-af5565beab11",
                "tags": []
            },
            "outputs": [],
            "execution_count": null
        },
        {
            "cell_type": "markdown",
            "source": [
                "## **What are total orders, total orders on-time(OT), total order infull(IF), and total orders(ONIF) by city?**"
            ],
            "metadata": {
                "language": "sql",
                "azdata_cell_guid": "437392fb-5cb9-454f-b3a8-4f19223f10ff"
            },
            "attachments": {}
        },
        {
            "cell_type": "code",
            "source": [
                "WITH city_order_data AS (\r\n",
                "    SELECT \r\n",
                "        dim_customers.city,\r\n",
                "        fact_orders_aggregate.order_id,\r\n",
                "        fact_orders_aggregate.on_time,\r\n",
                "        fact_orders_aggregate.in_full,\r\n",
                "        fact_orders_aggregate.otif\r\n",
                "    FROM fact_orders_aggregate \r\n",
                "\t\tINNER JOIN dim_customers \r\n",
                "\t\t\tON fact_orders_aggregate.customer_id = dim_customers.customer_id\r\n",
                "),\r\n",
                "all_order_data AS (\r\n",
                "    SELECT \t\r\n",
                "        city,\r\n",
                "        COUNT(DISTINCT order_id) AS total_orders,\r\n",
                "        SUM(CASE WHEN on_time = 1 THEN 1 ELSE 0 END) AS total_on_time,\r\n",
                "        SUM(CASE WHEN in_full = 1 THEN 1 ELSE 0 END) AS total_in_full,\r\n",
                "        SUM(CASE WHEN otif = 1 THEN 1 ELSE 0 END) AS total_otif\r\n",
                "    FROM city_order_data\r\n",
                "    GROUP BY city\r\n",
                ")\r\n",
                "\r\n",
                "SELECT \r\n",
                "    all_order_data.city,\r\n",
                "    all_order_data.total_orders,\r\n",
                "    all_order_data.total_on_time,\r\n",
                "    all_order_data.total_in_full,\r\n",
                "    all_order_data.total_otif,\r\n",
                "    (SELECT COUNT(DISTINCT order_id) FROM fact_orders_aggregate) AS overall_total_order\r\n",
                "FROM all_order_data;"
            ],
            "metadata": {
                "language": "sql",
                "azdata_cell_guid": "cc7d07f9-1fcf-4f41-b857-6523bab693f6",
                "tags": []
            },
            "outputs": [],
            "execution_count": null
        },
        {
            "cell_type": "markdown",
            "source": [
                "## **Provide insight regarding the share distribution of previous question metrics by customers.**"
            ],
            "metadata": {
                "language": "sql",
                "azdata_cell_guid": "953fc7c5-fa1e-4347-be7e-a1f91c64aea4"
            },
            "attachments": {}
        },
        {
            "cell_type": "code",
            "source": [
                "WITH customer_metrics AS (\r\n",
                "\tSELECT \r\n",
                "\t\tc.customer_name,\r\n",
                "        SUM(ol.order_qty) AS total_orders,\r\n",
                "        SUM(CASE WHEN o.on_time = 1 THEN ol.order_qty ELSE 0 END) AS total_orders_on_time,\r\n",
                "        SUM(CASE WHEN o.in_full = 1 THEN ol.order_qty ELSE 0 END) AS total_orders_in_full,\r\n",
                "        SUM(CASE WHEN o.otif = 1 THEN ol.order_qty ELSE 0 END) AS total_orders_otif\r\n",
                "     FROM fact_order_lines AS ol\r\n",
                "\t INNER JOIN dim_customers AS c  ON ol.customer_id = c.customer_id \r\n",
                "     INNER JOIN fact_orders_aggregate AS o ON ol.order_id = o.order_id \r\n",
                "     GROUP BY c.customer_name\r\n",
                ") \r\n",
                " \r\n",
                "SELECT \r\n",
                "\tcustomer_name,\r\n",
                "    total_orders,\r\n",
                "    total_orders_on_time,\r\n",
                "    total_orders_in_full,\r\n",
                "    total_orders_otif,\r\n",
                "    ROUND((total_orders_on_time*100.0)/total_orders, 2) AS 'on_time_%',\r\n",
                "    ROUND((total_orders_in_full*100.0)/total_orders, 2) AS 'in_full_%',\r\n",
                "    ROUND((total_orders_otif*100.0)/total_orders, 2) AS 'otif_%'\r\n",
                "FROM customer_metrics \r\n",
                "ORDER BY total_orders DESC;"
            ],
            "metadata": {
                "language": "sql",
                "azdata_cell_guid": "b0166587-8ad8-4b1e-9f17-c9e67051ac63",
                "tags": []
            },
            "outputs": [],
            "execution_count": null
        },
        {
            "cell_type": "markdown",
            "source": [
                "## **Calcualte % variance between actual and target from 'on-time(OT)', 'infull(IF)' and 'ON\\_Time and In Full(OTIF)' metrics by City.**"
            ],
            "metadata": {
                "language": "sql",
                "azdata_cell_guid": "daef2bba-f1d2-4996-952d-f771731c648d"
            },
            "attachments": {}
        },
        {
            "cell_type": "code",
            "source": [
                " WITH actual AS (\r\n",
                "\tSELECT \r\n",
                "\t\tdim_customers.city,\r\n",
                "        SUM(CASE WHEN fact_orders_aggregate.on_time = 1 THEN 1 ELSE 0 END)* 100.0 / COUNT(DISTINCT fact_orders_aggregate.order_id)  AS actual_ot,\r\n",
                "        SUM(CASE WHEN fact_orders_aggregate.in_full = 1 THEN 1 ELSE 0 END)* 100.0 / COUNT(DISTINCT fact_orders_aggregate.order_id)  AS actual_if,\r\n",
                "        SUM(CASE WHEN fact_orders_aggregate.otif = 1 THEN 1 ELSE 0 END) * 100.0/ COUNT(DISTINCT fact_orders_aggregate.order_id) AS actual_otif\r\n",
                "      FROM fact_orders_aggregate\r\n",
                "      JOIN dim_customers ON fact_orders_aggregate.customer_id = dim_customers.customer_id \r\n",
                "      GROUP BY dim_customers.city\r\n",
                "),\r\n",
                " target AS (\r\n",
                "\tSELECT \r\n",
                "\t\tdim_customers.city,\r\n",
                "        SUM(dim_targets_orders.ontime_target_pct) / COUNT(DISTINCT dim_targets_orders.customer_id) AS target_ot,\r\n",
                "        SUM(dim_targets_orders.infull_target_pct)/ COUNT(DISTINCT dim_targets_orders.customer_id) AS target_if,\r\n",
                "        SUM(dim_targets_orders.otif_target_pct) / COUNT(DISTINCT dim_targets_orders.customer_id) AS target_otif\r\n",
                "\tFROM dim_targets_orders\r\n",
                "\tJOIN dim_customers ON dim_targets_orders.customer_id = dim_customers.customer_id\r\n",
                "\tGROUP BY dim_customers.city\r\n",
                ")\r\n",
                "SELECT \r\n",
                "\tactual.city,\r\n",
                "\tROUND((actual.actual_ot - target.target_ot) * 100 / target.target_ot, 3) AS ot_varience,\r\n",
                "\tROUND((actual.actual_if - target.target_if) * 100 / target.target_if, 3) AS if_varience,\r\n",
                "\tROUND((actual.actual_otif - target.target_otif) * 100/ target.target_otif, 3) AS otif_varience\r\n",
                "FROM actual\r\n",
                "JOIN target ON actual.city = target.city;\r\n",
                ""
            ],
            "metadata": {
                "language": "sql",
                "azdata_cell_guid": "b03d52e2-7bd7-4b8d-9870-a666cfdf8d79"
            },
            "outputs": [],
            "execution_count": null
        },
        {
            "cell_type": "markdown",
            "source": [
                "## **Top/bottom 5 customers by total\\_quantity\\_orderd, \"in full\" quantity  ordered and \"on time and infull\" quantity ordered.**"
            ],
            "metadata": {
                "language": "sql",
                "azdata_cell_guid": "1cec39a2-db84-49eb-bc01-a5b17841d3bd"
            },
            "attachments": {}
        },
        {
            "cell_type": "code",
            "source": [
                "-- Top 5 Cusotmers by Total_quantity_ordered: \r\n",
                "  SELECT Top 5\r\n",
                "\tdim_customers.customer_name,\r\n",
                "    SUM(fact_order_lines.order_qty) AS Total_order_qty\r\n",
                " FROM dim_customers \r\n",
                " INNER JOIN fact_order_lines ON dim_customers.customer_id = fact_order_lines.customer_id \r\n",
                " GROUP BY dim_customers.customer_name\r\n",
                " ORDER BY Total_order_qty DESC;"
            ],
            "metadata": {
                "language": "sql",
                "azdata_cell_guid": "91a5a7c9-d3bd-470a-a85f-5aca553529b7"
            },
            "outputs": [],
            "execution_count": null
        },
        {
            "cell_type": "code",
            "source": [
                "-- Top 5 Cusotmers by in_full_qty_ordered\r\n",
                " SELECT Top 5\r\n",
                "\tdim_customers.customer_name,\r\n",
                "    SUM(fact_order_lines.delivery_qty) AS Full_qty_ordered\r\n",
                "FROM dim_customers\r\n",
                "INNER JOIN fact_order_lines ON dim_customers.customer_id = fact_order_lines.customer_id\r\n",
                "GROUP BY dim_customers.customer_name\r\n",
                "ORDER BY Full_qty_ordered DESC;   "
            ],
            "metadata": {
                "language": "sql",
                "azdata_cell_guid": "db31c0f2-3094-4d1b-b358-6eb24364c12e"
            },
            "outputs": [],
            "execution_count": null
        },
        {
            "cell_type": "code",
            "source": [
                "-- Top 5 Customers by \"OTIF\" ordered Quantity.\r\n",
                "WITH otif_ordered_qty AS (\r\n",
                "\tSELECT \r\n",
                "\t\tfact_order_lines.customer_id,\r\n",
                "        SUM(CASE WHEN fact_orders_aggregate.otif = 1 THEN fact_order_lines.delivery_qty ELSE 0 END) AS OTIF_Qty\r\n",
                "    FROM fact_order_lines \r\n",
                "    INNER JOIN fact_orders_aggregate ON fact_order_lines.order_id = fact_orders_aggregate.order_id \r\n",
                "    GROUP BY fact_order_lines.customer_id\r\n",
                ")\r\n",
                "SELECT Top 5\r\n",
                "\tdim_customers.customer_name,\r\n",
                "    otif_ordered_qty.OTIF_Qty\r\n",
                "FROM otif_ordered_qty \r\n",
                "INNER JOIN dim_customers ON otif_ordered_qty.customer_id = dim_customers.customer_id\r\n",
                "ORDER BY OTIF_Qty DESC;"
            ],
            "metadata": {
                "language": "sql",
                "azdata_cell_guid": "c2ff3b4e-e845-412b-908e-fdf384a1949f"
            },
            "outputs": [],
            "execution_count": null
        },
        {
            "cell_type": "markdown",
            "source": [
                "## **Provide actual OT%, IF%, AND OTIF% by Cusotmers**"
            ],
            "metadata": {
                "language": "sql",
                "azdata_cell_guid": "f3798f53-d0fc-4a84-83af-c74b06f4ba53"
            },
            "attachments": {}
        },
        {
            "cell_type": "code",
            "source": [
                "WITH actual AS (\r\n",
                "\tSELECT \r\n",
                "\t\tdim_customers.customer_name,\r\n",
                "        SUM(CASE WHEN fact_orders_aggregate.on_time = 1 THEN 1 ELSE 0 END) * 100.0 / COUNT(DISTINCT fact_orders_aggregate.order_id) AS  actual_ot,\r\n",
                "        SUM(CASE WHEN fact_orders_aggregate.in_full = 1 THEN 1 ELSE 0 END) * 100.0 / COUNT(DISTINCT fact_orders_aggregate.order_id) AS actual_if,\r\n",
                "        SUM(CASE WHEN fact_orders_aggregate.otif = 1 THEN 1 ELSE 0 END) * 100.0/ COUNT(DISTINCT fact_orders_aggregate.order_id) AS actual_otif\r\n",
                "\tFROM fact_orders_aggregate\r\n",
                "    JOIN dim_customers ON fact_orders_aggregate.customer_id = dim_customers.customer_id\r\n",
                "    GROUP BY dim_customers.customer_name \r\n",
                ")\r\n",
                "SELECT \r\n",
                "\tactual.customer_name,\r\n",
                "    ROUND(actual.actual_ot, 2) AS ot_pct,\r\n",
                "    ROUND(actual.actual_if, 2) AS if_pct,\r\n",
                "    ROUND(actual.actual_otif,2) AS otif_pct\r\n",
                "FROM actual\r\n",
                "ORDER BY actual.customer_name;"
            ],
            "metadata": {
                "language": "sql",
                "azdata_cell_guid": "1922fa70-15cc-44f4-917d-1239f7f72a6e"
            },
            "outputs": [],
            "execution_count": null
        },
        {
            "cell_type": "markdown",
            "source": [
                "## **Categorize the orders by Product category for each customer in descending Order**"
            ],
            "metadata": {
                "language": "sql",
                "azdata_cell_guid": "84659ef5-4827-4f62-acc2-0bb1c42d6f0b"
            },
            "attachments": {}
        },
        {
            "cell_type": "code",
            "source": [
                "WITH customer_orders AS (\r\n",
                "\tSELECT \r\n",
                "\t\tdim_customers.customer_name,\r\n",
                "        dim_products.category,\r\n",
                "        COUNT(DISTINCT fact_order_lines.order_id) AS Total_Orders\r\n",
                "    FROM fact_order_lines\r\n",
                "    JOIN dim_customers ON fact_order_lines.customer_id = dim_customers.customer_id\r\n",
                "    JOIN dim_products ON fact_order_lines.product_id = dim_products.product_id\r\n",
                "    GROUP BY dim_customers.customer_name, dim_products.category\r\n",
                ")\r\n",
                "SELECT \r\n",
                "\tcustomer_orders.customer_name,\r\n",
                "\tSUM(CASE WHEN customer_orders.category = 'dairy' THEN customer_orders.Total_Orders ELSE 0 END) AS 'Dairy',\r\n",
                "\tSUM(CASE WHEN customer_orders.category = 'food' THEN customer_orders.Total_Orders ELSE 0 END) AS 'Food',\r\n",
                "\tSUM(CASE WHEN customer_orders.category = 'beverages' THEN customer_orders.Total_Orders ELSE 0 END) AS 'Beverages',\r\n",
                "\tSUM(customer_orders.Total_Orders) AS \"Total_Orders\"\r\n",
                "FROM customer_orders\r\n",
                "GROUP BY customer_orders.customer_name\r\n",
                "ORDER BY \"Total_Orders\" DESC;"
            ],
            "metadata": {
                "language": "sql",
                "azdata_cell_guid": "d58e681b-c6c6-4fb5-bc8c-9b24946dde29"
            },
            "outputs": [],
            "execution_count": null
        },
        {
            "cell_type": "markdown",
            "source": [
                "## **Categorize the orders by Product category for each city in descending order**"
            ],
            "metadata": {
                "language": "sql",
                "azdata_cell_guid": "61162771-1fe0-42f9-a89f-83485f5643f3"
            },
            "attachments": {}
        },
        {
            "cell_type": "code",
            "source": [
                "WITH customer_orders AS (\r\n",
                "\tSELECT \r\n",
                "\t\tdim_customers.city,\r\n",
                "\t\tdim_products.category,\r\n",
                "\t\tCOUNT(DISTINCT fact_order_lines.order_id) AS total_orders\r\n",
                "   FROM fact_order_lines \r\n",
                "   JOIN dim_customers ON fact_order_lines.customer_id = dim_customers.customer_id\r\n",
                "   JOIN dim_products ON fact_order_lines.product_id = dim_products.product_id\r\n",
                "   GROUP BY dim_customers.city, dim_products.category\r\n",
                ")\r\n",
                "SELECT \r\n",
                "\tcustomer_orders.city,\r\n",
                "\tSUM(CASE WHEN customer_orders.category = 'dairy' THEN customer_orders.total_orders ELSE 0 END) AS 'Dairy',\r\n",
                "    SUM(CASE WHEN customer_orders.category = 'food' THEN customer_orders.total_orders ELSE 0 END) AS 'Food',\r\n",
                "    SUM(CASE WHEN customer_orders.category = 'beverages' THEN customer_orders.total_orders ELSE 0 END) AS 'Beverages',\r\n",
                "    SUM(customer_orders.total_orders) AS \"Total_Orders\"\r\n",
                "FROM customer_orders\r\n",
                "GROUP BY customer_orders.city \r\n",
                "ORDER BY \"Total_Orders\" DESC;"
            ],
            "metadata": {
                "language": "sql",
                "azdata_cell_guid": "e5151616-c6d1-4b29-9b9f-442d1a26f330"
            },
            "outputs": [],
            "execution_count": null
        },
        {
            "cell_type": "markdown",
            "source": [
                ""
            ],
            "metadata": {
                "language": "sql",
                "azdata_cell_guid": "18d85827-8556-4656-ae1f-4eb96a6cd7f0"
            }
        }
    ]
}